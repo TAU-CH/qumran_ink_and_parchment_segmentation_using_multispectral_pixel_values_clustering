{
 "cells": [
  {
   "cell_type": "code",
   "execution_count": 94,
   "id": "27608620-29b1-4a02-9275-1a13d1faf4e1",
   "metadata": {},
   "outputs": [
    {
     "name": "stdout",
     "output_type": "stream",
     "text": [
      "Download completed.\n"
     ]
    }
   ],
   "source": [
    "import os\n",
    "import urllib.request\n",
    "\n",
    "# The following was valid for an old dropbox configuration\n",
    "# dropbox_url = \"https://www.dropbox.com/sh/tuhldmyu1j99u3v/AAAa2Utpsu29hkNjILu_Wb7fa/198-Fg004-R-C01-R01-D30102011-T144039/Flattened?dl=0&subfolder_nav_tracking=1\"\n",
    "# Extract the folder name from the URL\n",
    "# folder_name = dropbox_url.split(\"/\")[-2]\n",
    "# folder_name = (folder_name.split(\"-\")[0] + \"-\" + folder_name.split(\"-\")[1][2:5])\n",
    "\n",
    "# dropbox_url = \"https://www.dropbox.com/sh/ok2z1mvkiwhujsx/AAD7_Z0QT5VjV-9nE8DMycosa?dl=0\"\n",
    "# # Replace \"?dl=0\" with \"?dl=1\" to generate the direct download link\n",
    "# direct_download_url = dropbox_url.replace(\"?dl=0\", \"?dl=1\")\n",
    "# folder_name = \"124-001\"\n",
    "# # Create a folder to store the downloaded contents\n",
    "# destination_folder = \"./data/dss_dataset/ms_dng_images/\" + folder_name\n",
    "# os.makedirs(destination_folder, exist_ok=True)\n",
    "# # Download the contents\n",
    "# urllib.request.urlretrieve(direct_download_url, f\"{destination_folder}/{folder_name}.zip\")\n",
    "# print(\"Download completed.\")\n",
    "\n",
    "dropbox_url = \"https://www.dropbox.com/scl/fo/3z22s7r5v63m7x71gzc23/h?rlkey=39h9475tef37m073wovw4kby8&dl=1\"\n",
    "# Replace \"?dl=0\" with \"?dl=1\" to generate the direct download link\n",
    "direct_download_url = dropbox_url.replace(\"?dl=0\", \"?dl=1\")\n",
    "folder_name = \"690-018\"\n",
    "# Create a folder to store the downloaded contents\n",
    "destination_folder = \"./data/dss_dataset/ms_dng_images/\" + folder_name\n",
    "os.makedirs(destination_folder, exist_ok=True)\n",
    "# Download the contents\n",
    "urllib.request.urlretrieve(direct_download_url, f\"{destination_folder}/{folder_name}.zip\")\n",
    "print(\"Download completed.\")\n",
    "\n",
    "\n"
   ]
  },
  {
   "cell_type": "code",
   "execution_count": 95,
   "id": "b904c7ec-ffc2-4b34-b466-278629425526",
   "metadata": {},
   "outputs": [],
   "source": [
    "import zipfile\n",
    "\n",
    "# ZIP file name\n",
    "zip_file_name = folder_name + \".zip\"\n",
    "\n",
    "zip_file_path = os.path.join(destination_folder, zip_file_name)\n",
    "\n",
    "# Extract the ZIP file\n",
    "with zipfile.ZipFile(zip_file_path, 'r') as zip_ref:\n",
    "    zip_ref.extractall(path=destination_folder)"
   ]
  },
  {
   "cell_type": "code",
   "execution_count": 96,
   "id": "49817c8f-a15a-4076-a92a-ac5cf62c8892",
   "metadata": {},
   "outputs": [],
   "source": [
    "# Delete the ZIP file\n",
    "os.remove(zip_file_path)"
   ]
  },
  {
   "cell_type": "code",
   "execution_count": null,
   "id": "d017b1ab-0044-4278-982f-4a95cf1d5d3e",
   "metadata": {},
   "outputs": [],
   "source": []
  }
 ],
 "metadata": {
  "kernelspec": {
   "display_name": "Python 3 (ipykernel)",
   "language": "python",
   "name": "python3"
  },
  "language_info": {
   "codemirror_mode": {
    "name": "ipython",
    "version": 3
   },
   "file_extension": ".py",
   "mimetype": "text/x-python",
   "name": "python",
   "nbconvert_exporter": "python",
   "pygments_lexer": "ipython3",
   "version": "3.7.0"
  }
 },
 "nbformat": 4,
 "nbformat_minor": 5
}
