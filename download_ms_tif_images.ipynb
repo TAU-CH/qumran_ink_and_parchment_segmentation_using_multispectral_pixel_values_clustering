{
 "cells": [
  {
   "cell_type": "code",
   "execution_count": 54,
   "id": "27608620-29b1-4a02-9275-1a13d1faf4e1",
   "metadata": {},
   "outputs": [
    {
     "name": "stdout",
     "output_type": "stream",
     "text": [
      "Download completed.\n"
     ]
    }
   ],
   "source": [
    "import os\n",
    "import urllib.request\n",
    "\n",
    "# The following was valid for an old dropbox configuration\n",
    "# dropbox_url = \"https://www.dropbox.com/sh/tuhldmyu1j99u3v/AAAa2Utpsu29hkNjILu_Wb7fa/198-Fg004-R-C01-R01-D30102011-T144039/Flattened?dl=0&subfolder_nav_tracking=1\"\n",
    "# Extract the folder name from the URL\n",
    "# folder_name = dropbox_url.split(\"/\")[-2]\n",
    "# folder_name = (folder_name.split(\"-\")[0] + \"-\" + folder_name.split(\"-\")[1][2:5])\n",
    "\n",
    "dropbox_url = \"https://www.dropbox.com/scl/fi/hjg7wghsp2ktmst3kti2j/198-Fg008-V-C01-R01-D30102011-T152407-LR445_001_F.tif?rlkey=e36e9w7hlqat8wjndmxtmajd9&dl=0\"\n",
    "# Replace \"?dl=0\" with \"?dl=1\" to generate the direct download link\n",
    "direct_download_url = dropbox_url.replace(\"&dl=0\", \"&dl=1\")\n",
    "\n",
    "folder_name = \"198-008\"\n",
    "\n",
    "# Create a folder to store the downloaded contents\n",
    "destination_folder = \"./final_dss_segmentation_28_02_2024/dss_dataset/ms_tif_images/\" + folder_name\n",
    "os.makedirs(destination_folder, exist_ok=True)\n",
    "\n",
    "# Download the contents\n",
    "urllib.request.urlretrieve(direct_download_url, f\"{destination_folder}/{folder_name}.zip\")\n",
    "\n",
    "print(\"Download completed.\")\n"
   ]
  },
  {
   "cell_type": "code",
   "execution_count": null,
   "id": "b904c7ec-ffc2-4b34-b466-278629425526",
   "metadata": {},
   "outputs": [],
   "source": [
    "import zipfile\n",
    "\n",
    "# ZIP file name\n",
    "zip_file_name = folder_name + \".zip\"\n",
    "\n",
    "zip_file_path = os.path.join(destination_folder, zip_file_name)\n",
    "\n",
    "# Extract the ZIP file\n",
    "with zipfile.ZipFile(zip_file_path, 'r') as zip_ref:\n",
    "    zip_ref.extractall(path=destination_folder)"
   ]
  },
  {
   "cell_type": "code",
   "execution_count": 52,
   "id": "49817c8f-a15a-4076-a92a-ac5cf62c8892",
   "metadata": {},
   "outputs": [],
   "source": [
    "# Delete the ZIP file\n",
    "os.remove(zip_file_path)"
   ]
  },
  {
   "cell_type": "code",
   "execution_count": 53,
   "id": "d017b1ab-0044-4278-982f-4a95cf1d5d3e",
   "metadata": {},
   "outputs": [
    {
     "name": "stdout",
     "output_type": "stream",
     "text": [
      "Deleted: final_dss_segmentation_28_02_2024/dss_dataset/ms_tif_images/198-007/198-Fg007-V-C01-R01-D30102011-T151109-LR475_002_F.tif\n",
      "Deleted: final_dss_segmentation_28_02_2024/dss_dataset/ms_tif_images/198-007/198-Fg007-V-C01-R01-D30102011-T151114-LR499_003_F.tif\n",
      "Deleted: final_dss_segmentation_28_02_2024/dss_dataset/ms_tif_images/198-007/198-Fg007-V-C01-R01-D30102011-T151119-LR540_004_F.tif\n",
      "Deleted: final_dss_segmentation_28_02_2024/dss_dataset/ms_tif_images/198-007/198-Fg007-V-C01-R01-D30102011-T151124-LR595_005_F.tif\n",
      "Deleted: final_dss_segmentation_28_02_2024/dss_dataset/ms_tif_images/198-007/198-Fg007-V-C01-R01-D30102011-T151128-LR638_006_F.tif\n",
      "Deleted: final_dss_segmentation_28_02_2024/dss_dataset/ms_tif_images/198-007/198-Fg007-V-C01-R01-D30102011-T151135-LR656_007_F.tif\n",
      "Deleted: final_dss_segmentation_28_02_2024/dss_dataset/ms_tif_images/198-007/198-Fg007-V-C01-R01-D30102011-T151142-LR706_008_F.tif\n",
      "Deleted: final_dss_segmentation_28_02_2024/dss_dataset/ms_tif_images/198-007/198-Fg007-V-C01-R01-D30102011-T151149-LR728_009_F.tif\n",
      "Deleted: final_dss_segmentation_28_02_2024/dss_dataset/ms_tif_images/198-007/198-Fg007-V-C01-R01-D30102011-T151155-LR772_010_F.tif\n",
      "Deleted: final_dss_segmentation_28_02_2024/dss_dataset/ms_tif_images/198-007/198-Fg007-V-C01-R01-D30102011-T151201-LR858_011_F.tif\n",
      "Deleted: final_dss_segmentation_28_02_2024/dss_dataset/ms_tif_images/198-007/198-Fg007-V-C01-R01-D30102011-T151220-ML445_013_F.tif\n",
      "Deleted: final_dss_segmentation_28_02_2024/dss_dataset/ms_tif_images/198-007/198-Fg007-V-C01-R01-D30102011-T151225-ML475_014_F.tif\n",
      "Deleted: final_dss_segmentation_28_02_2024/dss_dataset/ms_tif_images/198-007/198-Fg007-V-C01-R01-D30102011-T151230-ML499_015_F.tif\n",
      "Deleted: final_dss_segmentation_28_02_2024/dss_dataset/ms_tif_images/198-007/198-Fg007-V-C01-R01-D30102011-T151236-ML540_016_F.tif\n",
      "Deleted: final_dss_segmentation_28_02_2024/dss_dataset/ms_tif_images/198-007/198-Fg007-V-C01-R01-D30102011-T151242-ML595_017_F.tif\n",
      "Deleted: final_dss_segmentation_28_02_2024/dss_dataset/ms_tif_images/198-007/198-Fg007-V-C01-R01-D30102011-T151246-ML638_018_F.tif\n",
      "Deleted: final_dss_segmentation_28_02_2024/dss_dataset/ms_tif_images/198-007/198-Fg007-V-C01-R01-D30102011-T151252-MR445_019_F.tif\n",
      "Deleted: final_dss_segmentation_28_02_2024/dss_dataset/ms_tif_images/198-007/198-Fg007-V-C01-R01-D30102011-T151258-MR475_020_F.tif\n",
      "Deleted: final_dss_segmentation_28_02_2024/dss_dataset/ms_tif_images/198-007/198-Fg007-V-C01-R01-D30102011-T151303-MR499_021_F.tif\n",
      "Deleted: final_dss_segmentation_28_02_2024/dss_dataset/ms_tif_images/198-007/198-Fg007-V-C01-R01-D30102011-T151309-MR540_022_F.tif\n",
      "Deleted: final_dss_segmentation_28_02_2024/dss_dataset/ms_tif_images/198-007/198-Fg007-V-C01-R01-D30102011-T151315-MR595_023_F.tif\n",
      "Deleted: final_dss_segmentation_28_02_2024/dss_dataset/ms_tif_images/198-007/198-Fg007-V-C01-R01-D30102011-T151319-MR638_024_F.tif\n",
      "Deleted: final_dss_segmentation_28_02_2024/dss_dataset/ms_tif_images/198-007/198-Fg007-V-C01-R01-D30102011-T151325-RLRK__025_F.tif\n",
      "Deleted: final_dss_segmentation_28_02_2024/dss_dataset/ms_tif_images/198-007/198-Fg007-V-C01-R01-D30102011-T151341-RLRK__026_F.tif\n",
      "Deleted: final_dss_segmentation_28_02_2024/dss_dataset/ms_tif_images/198-007/198-Fg007-V-C01-R01-D30102011-T151347-RRRK__027_F.tif\n",
      "Deleted: final_dss_segmentation_28_02_2024/dss_dataset/ms_tif_images/198-007/198-Fg007-V-C01-R01-D30102011-T151403-RRRK__028_F.tif\n",
      "File deletion process completed.\n"
     ]
    }
   ],
   "source": [
    "import os\n",
    "import glob\n",
    "\n",
    "# Define the base path where the folders are located\n",
    "base_path = \"final_dss_segmentation_28_02_2024/dss_dataset/ms_tif_images/\"\n",
    "\n",
    "# List all subdirectories in the base path\n",
    "subdirectories = [d for d in os.listdir(base_path) if os.path.isdir(os.path.join(base_path, d))]\n",
    "\n",
    "# Loop through each subdirectory\n",
    "for subdir in subdirectories:\n",
    "    subdir_path = os.path.join(base_path, subdir)\n",
    "    # Construct the glob pattern to match all files except those ending with *001_F.tif and *012_F.tif\n",
    "    files_to_keep = [os.path.join(subdir_path, pattern) for pattern in [\"*001_F.tif\", \"*012_F.tif\"]]\n",
    "    all_files = glob.glob(os.path.join(subdir_path, \"*.tif\"))\n",
    "    \n",
    "    # Determine files to delete by excluding the ones to keep\n",
    "    files_to_delete = [f for f in all_files if not any(f.endswith(pattern) for pattern in [\"001_F.tif\", \"012_F.tif\"])]\n",
    "\n",
    "    # Delete the files\n",
    "    for file_path in files_to_delete:\n",
    "        os.remove(file_path)\n",
    "        print(f\"Deleted: {file_path}\")\n",
    "\n",
    "# Print completion message\n",
    "print(\"File deletion process completed.\")\n"
   ]
  },
  {
   "cell_type": "code",
   "execution_count": null,
   "id": "cf6aad3c-6691-476a-9520-245e13a82fcb",
   "metadata": {},
   "outputs": [],
   "source": []
  }
 ],
 "metadata": {
  "kernelspec": {
   "display_name": "Python 3 (ipykernel)",
   "language": "python",
   "name": "python3"
  },
  "language_info": {
   "codemirror_mode": {
    "name": "ipython",
    "version": 3
   },
   "file_extension": ".py",
   "mimetype": "text/x-python",
   "name": "python",
   "nbconvert_exporter": "python",
   "pygments_lexer": "ipython3",
   "version": "3.7.0"
  }
 },
 "nbformat": 4,
 "nbformat_minor": 5
}
